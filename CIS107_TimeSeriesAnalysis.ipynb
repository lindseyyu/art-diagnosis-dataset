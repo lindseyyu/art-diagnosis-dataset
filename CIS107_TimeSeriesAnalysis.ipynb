{
  "nbformat": 4,
  "nbformat_minor": 0,
  "metadata": {
    "colab": {
      "name": "CIS107_TimeSeriesAnalysis.ipynb",
      "provenance": [],
      "authorship_tag": "ABX9TyOvxnKfi4mhlHT1ju8XZ84y",
      "include_colab_link": true
    },
    "kernelspec": {
      "name": "python3",
      "display_name": "Python 3"
    },
    "language_info": {
      "name": "python"
    }
  },
  "cells": [
    {
      "cell_type": "markdown",
      "metadata": {
        "id": "view-in-github",
        "colab_type": "text"
      },
      "source": [
        "<a href=\"https://colab.research.google.com/github/lindseyyu/cis107-dataset/blob/main/CIS107_TimeSeriesAnalysis.ipynb\" target=\"_parent\"><img src=\"https://colab.research.google.com/assets/colab-badge.svg\" alt=\"Open In Colab\"/></a>"
      ]
    },
    {
      "cell_type": "code",
      "execution_count": 8,
      "metadata": {
        "id": "zx-aLKpYZSp3"
      },
      "outputs": [],
      "source": [
        "import pandas as pd\n",
        "from sklearn.preprocessing import MinMaxScaler"
      ]
    },
    {
      "cell_type": "code",
      "source": [
        "data = pd.read_csv ('/content/bryan_charnley_timeseries.csv')"
      ],
      "metadata": {
        "id": "S2VLyl5IZcxF"
      },
      "execution_count": 33,
      "outputs": []
    },
    {
      "cell_type": "code",
      "source": [
        "#data.set_index('date', inplace = True)\n",
        "data.drop(['name', 'schizophrenia'], axis=1, inplace=True)"
      ],
      "metadata": {
        "id": "cKyiT9l3ZfMv"
      },
      "execution_count": 34,
      "outputs": []
    },
    {
      "cell_type": "code",
      "source": [
        "# Min-Max Normalization\n",
        "df = data.drop('date', axis=1)\n",
        "df_norm = (df-df.min())/(df.max()-df.min())\n",
        "df_norm = pd.concat((df_norm, data.date), 1)"
      ],
      "metadata": {
        "colab": {
          "base_uri": "https://localhost:8080/"
        },
        "id": "QcVIjbZOZoqN",
        "outputId": "c0fa83fb-4343-4d94-af40-a661eb1626bc"
      },
      "execution_count": 35,
      "outputs": [
        {
          "output_type": "stream",
          "name": "stderr",
          "text": [
            "/usr/local/lib/python3.7/dist-packages/ipykernel_launcher.py:4: FutureWarning: In a future version of pandas all arguments of concat except for the argument 'objs' will be keyword-only\n",
            "  after removing the cwd from sys.path.\n"
          ]
        }
      ]
    },
    {
      "cell_type": "code",
      "source": [
        "from datetime import datetime\n",
        "df_norm['date'] = pd.to_datetime(df_norm['date'])\n"
      ],
      "metadata": {
        "id": "sPwBYujPcIaf"
      },
      "execution_count": 36,
      "outputs": []
    },
    {
      "cell_type": "code",
      "source": [
        "df_norm.set_index('date', inplace=True)"
      ],
      "metadata": {
        "id": "Sn6Bnt3Sahyn"
      },
      "execution_count": 37,
      "outputs": []
    },
    {
      "cell_type": "code",
      "source": [
        "df_norm"
      ],
      "metadata": {
        "colab": {
          "base_uri": "https://localhost:8080/",
          "height": 519
        },
        "id": "P8x4lchfb95F",
        "outputId": "91d0bf13-9831-47e8-ab8a-7208d21eab3d"
      },
      "execution_count": 38,
      "outputs": [
        {
          "output_type": "execute_result",
          "data": {
            "text/plain": [
              "            colorfulness  contour_count  contrast  dissimilarity  homogeneity\n",
              "date                                                                         \n",
              "1991-05-14      0.602961       0.107388  0.344766       0.559383     0.444414\n",
              "1991-07-19      1.000000       0.000000  0.000000       0.000000     0.938237\n",
              "1991-05-23      0.672471       0.106626  0.199219       0.343980     0.763268\n",
              "1991-07-12      0.321961       0.520944  0.170457       0.333764     0.705548\n",
              "1991-06-27      0.264041       0.384615  0.274865       0.457617     0.541127\n",
              "1991-04-29      0.814757       0.051028  0.146111       0.302718     0.943032\n",
              "1991-04-24      0.000000       0.134806  1.000000       0.952967     1.000000\n",
              "1991-04-20      0.640737       0.312262  0.343799       0.638203     0.100201\n",
              "1991-06-08      0.496431       0.060168  0.145194       0.261223     0.689521\n",
              "1991-06-19      0.619628       0.454684  0.296623       0.524818     0.373297\n",
              "1991-05-06      0.765420       0.126428  0.060337       0.191662     0.608855\n",
              "1991-05-18      0.448635       0.635187  0.463682       0.771613     0.115105\n",
              "1991-05-24      0.435376       1.000000  0.594923       0.939291     0.000000\n",
              "1991-04-23      0.423758       0.261234  0.912575       1.000000     0.748533"
            ],
            "text/html": [
              "\n",
              "  <div id=\"df-97cb1e5d-82a7-45c1-9be0-23196c96a706\">\n",
              "    <div class=\"colab-df-container\">\n",
              "      <div>\n",
              "<style scoped>\n",
              "    .dataframe tbody tr th:only-of-type {\n",
              "        vertical-align: middle;\n",
              "    }\n",
              "\n",
              "    .dataframe tbody tr th {\n",
              "        vertical-align: top;\n",
              "    }\n",
              "\n",
              "    .dataframe thead th {\n",
              "        text-align: right;\n",
              "    }\n",
              "</style>\n",
              "<table border=\"1\" class=\"dataframe\">\n",
              "  <thead>\n",
              "    <tr style=\"text-align: right;\">\n",
              "      <th></th>\n",
              "      <th>colorfulness</th>\n",
              "      <th>contour_count</th>\n",
              "      <th>contrast</th>\n",
              "      <th>dissimilarity</th>\n",
              "      <th>homogeneity</th>\n",
              "    </tr>\n",
              "    <tr>\n",
              "      <th>date</th>\n",
              "      <th></th>\n",
              "      <th></th>\n",
              "      <th></th>\n",
              "      <th></th>\n",
              "      <th></th>\n",
              "    </tr>\n",
              "  </thead>\n",
              "  <tbody>\n",
              "    <tr>\n",
              "      <th>1991-05-14</th>\n",
              "      <td>0.602961</td>\n",
              "      <td>0.107388</td>\n",
              "      <td>0.344766</td>\n",
              "      <td>0.559383</td>\n",
              "      <td>0.444414</td>\n",
              "    </tr>\n",
              "    <tr>\n",
              "      <th>1991-07-19</th>\n",
              "      <td>1.000000</td>\n",
              "      <td>0.000000</td>\n",
              "      <td>0.000000</td>\n",
              "      <td>0.000000</td>\n",
              "      <td>0.938237</td>\n",
              "    </tr>\n",
              "    <tr>\n",
              "      <th>1991-05-23</th>\n",
              "      <td>0.672471</td>\n",
              "      <td>0.106626</td>\n",
              "      <td>0.199219</td>\n",
              "      <td>0.343980</td>\n",
              "      <td>0.763268</td>\n",
              "    </tr>\n",
              "    <tr>\n",
              "      <th>1991-07-12</th>\n",
              "      <td>0.321961</td>\n",
              "      <td>0.520944</td>\n",
              "      <td>0.170457</td>\n",
              "      <td>0.333764</td>\n",
              "      <td>0.705548</td>\n",
              "    </tr>\n",
              "    <tr>\n",
              "      <th>1991-06-27</th>\n",
              "      <td>0.264041</td>\n",
              "      <td>0.384615</td>\n",
              "      <td>0.274865</td>\n",
              "      <td>0.457617</td>\n",
              "      <td>0.541127</td>\n",
              "    </tr>\n",
              "    <tr>\n",
              "      <th>1991-04-29</th>\n",
              "      <td>0.814757</td>\n",
              "      <td>0.051028</td>\n",
              "      <td>0.146111</td>\n",
              "      <td>0.302718</td>\n",
              "      <td>0.943032</td>\n",
              "    </tr>\n",
              "    <tr>\n",
              "      <th>1991-04-24</th>\n",
              "      <td>0.000000</td>\n",
              "      <td>0.134806</td>\n",
              "      <td>1.000000</td>\n",
              "      <td>0.952967</td>\n",
              "      <td>1.000000</td>\n",
              "    </tr>\n",
              "    <tr>\n",
              "      <th>1991-04-20</th>\n",
              "      <td>0.640737</td>\n",
              "      <td>0.312262</td>\n",
              "      <td>0.343799</td>\n",
              "      <td>0.638203</td>\n",
              "      <td>0.100201</td>\n",
              "    </tr>\n",
              "    <tr>\n",
              "      <th>1991-06-08</th>\n",
              "      <td>0.496431</td>\n",
              "      <td>0.060168</td>\n",
              "      <td>0.145194</td>\n",
              "      <td>0.261223</td>\n",
              "      <td>0.689521</td>\n",
              "    </tr>\n",
              "    <tr>\n",
              "      <th>1991-06-19</th>\n",
              "      <td>0.619628</td>\n",
              "      <td>0.454684</td>\n",
              "      <td>0.296623</td>\n",
              "      <td>0.524818</td>\n",
              "      <td>0.373297</td>\n",
              "    </tr>\n",
              "    <tr>\n",
              "      <th>1991-05-06</th>\n",
              "      <td>0.765420</td>\n",
              "      <td>0.126428</td>\n",
              "      <td>0.060337</td>\n",
              "      <td>0.191662</td>\n",
              "      <td>0.608855</td>\n",
              "    </tr>\n",
              "    <tr>\n",
              "      <th>1991-05-18</th>\n",
              "      <td>0.448635</td>\n",
              "      <td>0.635187</td>\n",
              "      <td>0.463682</td>\n",
              "      <td>0.771613</td>\n",
              "      <td>0.115105</td>\n",
              "    </tr>\n",
              "    <tr>\n",
              "      <th>1991-05-24</th>\n",
              "      <td>0.435376</td>\n",
              "      <td>1.000000</td>\n",
              "      <td>0.594923</td>\n",
              "      <td>0.939291</td>\n",
              "      <td>0.000000</td>\n",
              "    </tr>\n",
              "    <tr>\n",
              "      <th>1991-04-23</th>\n",
              "      <td>0.423758</td>\n",
              "      <td>0.261234</td>\n",
              "      <td>0.912575</td>\n",
              "      <td>1.000000</td>\n",
              "      <td>0.748533</td>\n",
              "    </tr>\n",
              "  </tbody>\n",
              "</table>\n",
              "</div>\n",
              "      <button class=\"colab-df-convert\" onclick=\"convertToInteractive('df-97cb1e5d-82a7-45c1-9be0-23196c96a706')\"\n",
              "              title=\"Convert this dataframe to an interactive table.\"\n",
              "              style=\"display:none;\">\n",
              "        \n",
              "  <svg xmlns=\"http://www.w3.org/2000/svg\" height=\"24px\"viewBox=\"0 0 24 24\"\n",
              "       width=\"24px\">\n",
              "    <path d=\"M0 0h24v24H0V0z\" fill=\"none\"/>\n",
              "    <path d=\"M18.56 5.44l.94 2.06.94-2.06 2.06-.94-2.06-.94-.94-2.06-.94 2.06-2.06.94zm-11 1L8.5 8.5l.94-2.06 2.06-.94-2.06-.94L8.5 2.5l-.94 2.06-2.06.94zm10 10l.94 2.06.94-2.06 2.06-.94-2.06-.94-.94-2.06-.94 2.06-2.06.94z\"/><path d=\"M17.41 7.96l-1.37-1.37c-.4-.4-.92-.59-1.43-.59-.52 0-1.04.2-1.43.59L10.3 9.45l-7.72 7.72c-.78.78-.78 2.05 0 2.83L4 21.41c.39.39.9.59 1.41.59.51 0 1.02-.2 1.41-.59l7.78-7.78 2.81-2.81c.8-.78.8-2.07 0-2.86zM5.41 20L4 18.59l7.72-7.72 1.47 1.35L5.41 20z\"/>\n",
              "  </svg>\n",
              "      </button>\n",
              "      \n",
              "  <style>\n",
              "    .colab-df-container {\n",
              "      display:flex;\n",
              "      flex-wrap:wrap;\n",
              "      gap: 12px;\n",
              "    }\n",
              "\n",
              "    .colab-df-convert {\n",
              "      background-color: #E8F0FE;\n",
              "      border: none;\n",
              "      border-radius: 50%;\n",
              "      cursor: pointer;\n",
              "      display: none;\n",
              "      fill: #1967D2;\n",
              "      height: 32px;\n",
              "      padding: 0 0 0 0;\n",
              "      width: 32px;\n",
              "    }\n",
              "\n",
              "    .colab-df-convert:hover {\n",
              "      background-color: #E2EBFA;\n",
              "      box-shadow: 0px 1px 2px rgba(60, 64, 67, 0.3), 0px 1px 3px 1px rgba(60, 64, 67, 0.15);\n",
              "      fill: #174EA6;\n",
              "    }\n",
              "\n",
              "    [theme=dark] .colab-df-convert {\n",
              "      background-color: #3B4455;\n",
              "      fill: #D2E3FC;\n",
              "    }\n",
              "\n",
              "    [theme=dark] .colab-df-convert:hover {\n",
              "      background-color: #434B5C;\n",
              "      box-shadow: 0px 1px 3px 1px rgba(0, 0, 0, 0.15);\n",
              "      filter: drop-shadow(0px 1px 2px rgba(0, 0, 0, 0.3));\n",
              "      fill: #FFFFFF;\n",
              "    }\n",
              "  </style>\n",
              "\n",
              "      <script>\n",
              "        const buttonEl =\n",
              "          document.querySelector('#df-97cb1e5d-82a7-45c1-9be0-23196c96a706 button.colab-df-convert');\n",
              "        buttonEl.style.display =\n",
              "          google.colab.kernel.accessAllowed ? 'block' : 'none';\n",
              "\n",
              "        async function convertToInteractive(key) {\n",
              "          const element = document.querySelector('#df-97cb1e5d-82a7-45c1-9be0-23196c96a706');\n",
              "          const dataTable =\n",
              "            await google.colab.kernel.invokeFunction('convertToInteractive',\n",
              "                                                     [key], {});\n",
              "          if (!dataTable) return;\n",
              "\n",
              "          const docLinkHtml = 'Like what you see? Visit the ' +\n",
              "            '<a target=\"_blank\" href=https://colab.research.google.com/notebooks/data_table.ipynb>data table notebook</a>'\n",
              "            + ' to learn more about interactive tables.';\n",
              "          element.innerHTML = '';\n",
              "          dataTable['output_type'] = 'display_data';\n",
              "          await google.colab.output.renderOutput(dataTable, element);\n",
              "          const docLink = document.createElement('div');\n",
              "          docLink.innerHTML = docLinkHtml;\n",
              "          element.appendChild(docLink);\n",
              "        }\n",
              "      </script>\n",
              "    </div>\n",
              "  </div>\n",
              "  "
            ]
          },
          "metadata": {},
          "execution_count": 38
        }
      ]
    },
    {
      "cell_type": "code",
      "source": [
        "df_norm[\"1991-04-23\":\"1991-07-19\"].plot(title=\"Feature Presence Over Time in Charnley's Work\");"
      ],
      "metadata": {
        "colab": {
          "base_uri": "https://localhost:8080/",
          "height": 301
        },
        "id": "iCH0u3bmb5Rl",
        "outputId": "79046047-f9c3-475c-e8a4-f8b4d5f6d854"
      },
      "execution_count": 39,
      "outputs": [
        {
          "output_type": "display_data",
          "data": {
            "text/plain": [
              "<Figure size 432x288 with 1 Axes>"
            ],
            "image/png": "[encoded data removed]"
          },
          "metadata": {
            "needs_background": "light"
          }
        }
      ]
    }
  ]
}